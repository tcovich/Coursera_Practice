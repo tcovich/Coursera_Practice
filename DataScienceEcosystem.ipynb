{
 "cells": [
  {
   "cell_type": "markdown",
   "id": "48a0bbc7",
   "metadata": {},
   "source": [
    "# Data Science Tools and Ecosystem"
   ]
  },
  {
   "cell_type": "markdown",
   "id": "c756a43b",
   "metadata": {},
   "source": [
    "In this notebook, the data science tools and ecosystem are summarized."
   ]
  },
  {
   "cell_type": "markdown",
   "id": "ce9dfe15",
   "metadata": {},
   "source": [
    "Some of the most popular programming languages are:\n",
    "1. Python\n",
    "2. R\n",
    "3. Java\n",
    "4. SQL"
   ]
  },
  {
   "cell_type": "markdown",
   "id": "34530e7c",
   "metadata": {},
   "source": [
    "Some of the most common libraries that data scientists use are:\n",
    "1. Python\n",
    "2. Numpy\n",
    "3. ggplot2\n",
    "4. matplotlib"
   ]
  },
  {
   "cell_type": "markdown",
   "id": "75172cba",
   "metadata": {},
   "source": [
    "| Data Science Tools |\n",
    "| ------------------------  |\n",
    "| Jupyter Notebooks |\n",
    "| Tableau |\n",
    "| Github |"
   ]
  },
  {
   "cell_type": "markdown",
   "id": "328968c7",
   "metadata": {},
   "source": [
    "### Below are a few examples of arithmetic operations in python"
   ]
  },
  {
   "cell_type": "code",
   "execution_count": 1,
   "id": "4d7106b3",
   "metadata": {},
   "outputs": [
    {
     "data": {
      "text/plain": [
       "17"
      ]
     },
     "execution_count": 1,
     "metadata": {},
     "output_type": "execute_result"
    }
   ],
   "source": [
    "# This is a simple arithmetic expression to multiply and add integers\n",
    "(3 * 4) + 5"
   ]
  },
  {
   "cell_type": "code",
   "execution_count": 3,
   "id": "ad8d3a9c",
   "metadata": {},
   "outputs": [
    {
     "name": "stdout",
     "output_type": "stream",
     "text": [
      "Hours in 200 mins: 3.3333333333333335\n"
     ]
    }
   ],
   "source": [
    "# This will convert 200 minutes to hours\n",
    "mins = 200\n",
    "min_hour = 60\n",
    "hours_calc = mins / min_hour\n",
    "print('Hours in 200 mins:', hours_calc)"
   ]
  },
  {
   "cell_type": "markdown",
   "id": "c68c4a03",
   "metadata": {},
   "source": [
    "Objectives:\n",
    "* List data science tools\n",
    "* List data science languages\n",
    "* Show how python is used in jupyter"
   ]
  },
  {
   "cell_type": "markdown",
   "id": "779322f2",
   "metadata": {},
   "source": [
    "## Author\n",
    "Teddy"
   ]
  },
  {
   "cell_type": "code",
   "execution_count": null,
   "id": "e4036338",
   "metadata": {},
   "outputs": [],
   "source": []
  }
 ],
 "metadata": {
  "kernelspec": {
   "display_name": "Python 3 (ipykernel)",
   "language": "python",
   "name": "python3"
  },
  "language_info": {
   "codemirror_mode": {
    "name": "ipython",
    "version": 3
   },
   "file_extension": ".py",
   "mimetype": "text/x-python",
   "name": "python",
   "nbconvert_exporter": "python",
   "pygments_lexer": "ipython3",
   "version": "3.9.7"
  }
 },
 "nbformat": 4,
 "nbformat_minor": 5
}
